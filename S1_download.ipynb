{
 "cells": [
  {
   "cell_type": "markdown",
   "metadata": {},
   "source": [
    "# Dowbload Sentinel-1 data\n",
    "Querry, retrieve and download satellite images directly with Python in Jupyter notebook."
   ]
  },
  {
   "cell_type": "markdown",
   "metadata": {},
   "source": [
    "The Sentinel-1 mission is the first of the six Sentinel-\n",
    "dedicated missions operated by the European\n",
    "Copernicus programme. Sentinel-1 is based on a\n",
    "constellation of two SAR satellites to ensure continuity\n",
    "of C-band SAR observations across the globe.\n",
    "Sentinel-1A was launched on April 3, 2014, and\n",
    "the second Sentinel-1 satellite, Sentinel-1B, was\n",
    "launched on April 25, 2016."
   ]
  },
  {
   "cell_type": "markdown",
   "metadata": {},
   "source": [
    "# Accessing data\n",
    "\n",
    "In this tutorial, we will use Sentinel-1 data. There are many options to access Sentinel 1 images and most of them will require you to access through website interaction whether directly via a downloading service utility or via the cloud. \n",
    "However, since we are using Jupyter notebook, we will access them right here using, sentinelsat a python library which makes searching, retrieving and downloading Sentinel satellite images easy. So let us start installing sentinelsat through pip."
   ]
  },
  {
   "cell_type": "code",
   "execution_count": null,
   "metadata": {},
   "outputs": [],
   "source": [
    "!pip install sentinelsat\n"
   ]
  },
  {
   "cell_type": "code",
   "execution_count": null,
   "metadata": {},
   "outputs": [],
   "source": [
    "from sentinelsat import SentinelAPI, read_geojson, geojson_to_wkt\n",
    "from datetime import date\n",
    "\n",
    "api = SentinelAPI('vak000', '1362Vahid', 'https://scihub.copernicus.eu/dhus')\n",
    "\n",
    "footprint = geojson_to_wkt(read_geojson('AOI_VembanadNEW.geojson'))\n",
    "products = api.query(footprint,\n",
    "                     producttype='SLC',\n",
    "                     date=('20200101', '20200131'), \n",
    "                     platformname='Sentinel-1',\n",
    "                     polarisationmode='VV VH',\n",
    "                     sensoroperationalmode='IW',\n",
    "                     orbitdirection='DESCENDING')\n",
    "\n",
    " api.download_all(products, r'C:\\Users\\vaak\\Desktop\\UoS\\weedwatch project\\S1_Vembanad\\DSC')"
   ]
  }
 ],
 "metadata": {
  "kernelspec": {
   "display_name": "Python 3",
   "language": "python",
   "name": "python3"
  },
  "language_info": {
   "codemirror_mode": {
    "name": "ipython",
    "version": 3
   },
   "file_extension": ".py",
   "mimetype": "text/x-python",
   "name": "python",
   "nbconvert_exporter": "python",
   "pygments_lexer": "ipython3",
   "version": "3.7.7"
  }
 },
 "nbformat": 4,
 "nbformat_minor": 4
}
